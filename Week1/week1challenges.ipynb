{
 "cells": [
  {
   "cell_type": "markdown",
   "id": "3e1e51f7",
   "metadata": {},
   "source": [
    "#  My first python Notebook\n",
    "## Week 1 programming challenges "
   ]
  },
  {
   "cell_type": "code",
   "execution_count": 2,
   "id": "1a4cf33f",
   "metadata": {},
   "outputs": [],
   "source": [
    "def greet(user):\n",
    "    '''Greets the named user'''\n",
    "    print(f'Hello {user} nice to meet you.')\n"
   ]
  },
  {
   "cell_type": "code",
   "execution_count": null,
   "id": "e0dce9bb",
   "metadata": {},
   "outputs": [],
   "source": [
    "greet(\"Dudeman\")"
   ]
  },
  {
   "cell_type": "code",
   "execution_count": 16,
   "id": "2b9a39d5",
   "metadata": {},
   "outputs": [
    {
     "name": "stdout",
     "output_type": "stream",
     "text": [
      "67.0 C is 152.6 F\n"
     ]
    }
   ],
   "source": [
    "def FTempConverter():\n",
    "    '''tem converter'''\n",
    "    temp = float(input(\"Enter Celcius Temp:\"))\n",
    "    f = (temp*9)/5+32\n",
    "    print(f\"{temp} C is {f} F\")\n",
    "FTempConverter()"
   ]
  }
 ],
 "metadata": {
  "kernelspec": {
   "display_name": "Python 3 (ipykernel)",
   "language": "python",
   "name": "python3"
  },
  "language_info": {
   "codemirror_mode": {
    "name": "ipython",
    "version": 3
   },
   "file_extension": ".py",
   "mimetype": "text/x-python",
   "name": "python",
   "nbconvert_exporter": "python",
   "pygments_lexer": "ipython3",
   "version": "3.12.1"
  }
 },
 "nbformat": 4,
 "nbformat_minor": 5
}

{
 "cells": [
  {
   "cell_type": "code",
   "execution_count": null,
   "id": "6d02aac6",
   "metadata": {},
   "outputs": [],
   "source": [
    "import random \n",
    "def adder(x,y):\n",
    "    '''adds two values return a sum'''\n",
    "    return x+y \n",
    "def timeEm(x,y):\n",
    "    '''Multiplies two values'''\n",
    "    return x*y\n",
    "def divEm(x,y):\n",
    "    '''returns the quotient''' \n",
    "    return x/y \n",
    "\n",
    "#num1 = int(input('Num1:'))\n",
    "#num2 = int(input('Num2:'))\n",
    "for i in range(5):\n",
    "  op = random.choice([\"+\",\"*\",\"/\"])\n",
    "  num1 =random.randint(1,13)\n",
    "  num2 =random.randint (1,13)\n",
    "  user_answer = int(input(f'{num1} {op} {num2} = '))\n",
    "  if (op ==\"+\") and (user_answer ==adder(num1,num2)):\n",
    "    print('Correct!')\n",
    "\n"
   ]
  },
  {
   "cell_type": "code",
   "execution_count": 20,
   "id": "c7078104",
   "metadata": {},
   "outputs": [
    {
     "name": "stdout",
     "output_type": "stream",
     "text": [
      "8 | 24\n"
     ]
    }
   ],
   "source": [
    "print (f'{adder(3,5)} | {timeEm(4,6)}')"
   ]
  }
 ],
 "metadata": {
  "kernelspec": {
   "display_name": "Python 3 (ipykernel)",
   "language": "python",
   "name": "python3"
  },
  "language_info": {
   "codemirror_mode": {
    "name": "ipython",
    "version": 3
   },
   "file_extension": ".py",
   "mimetype": "text/x-python",
   "name": "python",
   "nbconvert_exporter": "python",
   "pygments_lexer": "ipython3",
   "version": "3.12.1"
  }
 },
 "nbformat": 4,
 "nbformat_minor": 5
}

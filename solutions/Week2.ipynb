{
 "cells": [
  {
   "cell_type": "code",
   "execution_count": 1,
   "id": "db5372ca",
   "metadata": {},
   "outputs": [
    {
     "name": "stdout",
     "output_type": "stream",
     "text": [
      "Negative\n"
     ]
    }
   ],
   "source": [
    "#Challenge 1\n",
    "\n",
    "def simpleDecisions():\n",
    "    '''Takes a number and outputs a decision'''\n",
    "        \n",
    "    number = float(input(\"Enter a number: \"))\n",
    "\n",
    "    # Classify the number\n",
    "    if number > 0:\n",
    "        print(\"Positive\")\n",
    "    elif number < 0:\n",
    "        print(\"Negative\")\n",
    "    else:\n",
    "        print(\"Zero\")\n",
    "simpleDecisions()"
   ]
  },
  {
   "cell_type": "code",
   "execution_count": null,
   "id": "a1678da5",
   "metadata": {},
   "outputs": [],
   "source": [
    "def guessNumber():\n",
    "    '''Randomly chooses a number between 1 and 10'''\n",
    "    import random\n",
    "    secret_number = random.randint(1, 10)\n",
    "    print(secret_number)\n",
    "    while True:\n",
    "        guess = int(input(\"Enter your guess: \"))\n",
    "        \n",
    "        if guess < 1 or guess > 10: \n",
    "            print(\"Please enter a number between 1 and 10.\")\n",
    "        elif guess < secret_number:\n",
    "            print(\"Too low. Try again.\")\n",
    "        elif guess > secret_number:\n",
    "            print(\"Too high. Try again.\")\n",
    "        else:\n",
    "            print(\"Congratulations! You guessed it!\")\n",
    "          break \n",
    "guessNumber()"
   ]
  },
  {
   "cell_type": "code",
   "execution_count": 8,
   "id": "76ee10b6",
   "metadata": {},
   "outputs": [
    {
     "name": "stdout",
     "output_type": "stream",
     "text": [
      "....Computer is making its choice....\n",
      ".....Computer has made their choice.....\n",
      "I do not know who wins\n"
     ]
    }
   ],
   "source": [
    "def rockPaperScissors():\n",
    "    '''simulate rock paper scissors game'''\n",
    "    from random import randint,choice\n",
    "    from time import sleep\n",
    "    choices = ['r','p','s']\n",
    "\n",
    "    print('....Computer is making its choice....')\n",
    "    getCompChoice = choice(choices)\n",
    "    sleep(2)\n",
    "    print('.....Computer has made their choice.....')\n",
    "    #print(getChoice)\n",
    "    userChoice = input('Enter your choice [\"r\", \"p\",\"s\"]: ')\n",
    "\n",
    "    if getCompChoice ==\"r\" and userChoice ==\"p\":\n",
    "        print('...... determining winner.....')\n",
    "        sleep(2)\n",
    "        print('You win because paper beat Rock')\n",
    "    else:\n",
    "        print('I do not know who wins')\n",
    "\n",
    "rockPaperScissors()\n"
   ]
  },
  {
   "cell_type": "code",
   "execution_count": null,
   "id": "12abbcbb",
   "metadata": {},
   "outputs": [
    {
     "name": "stdout",
     "output_type": "stream",
     "text": [
      ".....Computer is making its choice.....\n",
      ".......Computer has made their choice.....\n",
      "....determining winner....\n",
      "You win because rock beats paper\n"
     ]
    }
   ],
   "source": [
    "def rockPaperScissors():\n",
    "    '''simulate rock paper scissors game'''\n",
    "    from random import randint,choice\n",
    "    from time import sleep\n",
    "    choices = ['r','p','s'] \n",
    "\n",
    "    print('.....Computer is making its choice.....')\n",
    "    getCompChoice = choice(choices)\n",
    "    sleep(2)\n",
    "    print('.......Computer has made their choice.....')\n",
    "    #print(getChoice)\n",
    "    userChoice = input('Enter your choice [\"r\", \"p\", \"s\"]: ')\n",
    "\n",
    "    if getCompChoice ==\"r\" and userChoice == \"p\":\n",
    "        print('.....determining winner.....')\n",
    "        sleep(2)\n",
    "        print('You win because paper beats rock!')\n",
    "    elif getCompChoice ==\"p\" and userChoice == \"r\":\n",
    "        print('....determining winner...')\n",
    "        sleep(2)\n",
    "        print('You lose because paper beats rock')\n",
    "    elif getCompChoice ==\"s\" and userChoice ==\"r\":\n",
    "        print('....determining winner....')\n",
    "        sleep(2)\n",
    "        print('You win because rock beats paper')\n",
    "    elif getCompChoice ==\"r\" and userChoice ==\"s\":\n",
    "        print('...determinining winner....')\n",
    "        sleep(2)\n",
    "        print('You lose because rock beats paper')\n",
    "    elif getCompChoice ==\"s\" and userChoice ==\"p\":\n",
    "        print('....determining winner....')\n",
    "        sleep(2)\n",
    "        print('You lose because scissors beats paper')\n",
    "    elif getCompChoice ==\"p\" and userChoice ==\"s\":\n",
    "        print('...determining winner...')\n",
    "        sleep(2)\n",
    "        print('You win because scissors beats paper')\n",
    "    elif getCompChoice ==\"p\" and userChoice ==\"p\":\n",
    "        print(' WE DRAW')\n",
    "    elif getCompChoice ==\"s\" and userChoice ==\"s\":\n",
    "        print('WE DRAW')\n",
    "    elif getCompChoice ==\"r\" and userChoice ==\"r\":\n",
    "        print ('WE DRAW')\n",
    "\n",
    "    \n",
    "    else: print('I do not know who wins')\n",
    "\n",
    "\n",
    "    \n",
    "\n",
    "        \n",
    "rockPaperScissors()"
   ]
  },
  {
   "cell_type": "code",
   "execution_count": null,
   "id": "a7a1df8b",
   "metadata": {},
   "outputs": [],
   "source": [
    "#Challenge 3\n",
    "def tablesGenerator():\n",
    "    togenerate = int(input('Enter a number whose table togenerate: '))\n",
    "    for i in range(12):\n",
    "        print(f'{i+1} x {togenerate} = {(i+1)*togenerate}')\n",
    "tablesGenerator()"
   ]
  },
  {
   "cell_type": "code",
   "execution_count": 1,
   "id": "f9f32e75",
   "metadata": {},
   "outputs": [
    {
     "name": "stdout",
     "output_type": "stream",
     "text": [
      "1\n",
      "0\n"
     ]
    }
   ],
   "source": [
    "def countDownTimer():\n",
    "    '''Simulates a count down timer'''\n",
    "    from time import sleep\n",
    "    counter = int(input('Enter a starting number: '))\n",
    "    while counter >= 0:\n",
    "        print(counter)\n",
    "        sleep(1)\n",
    "        counter -=1\n",
    "countDownTimer()"
   ]
  },
  {
   "cell_type": "code",
   "execution_count": 3,
   "id": "2678e101",
   "metadata": {},
   "outputs": [
    {
     "name": "stdout",
     "output_type": "stream",
     "text": [
      "1\n",
      "2\n",
      "Fizz\n",
      "4\n",
      "Buzz\n",
      "Fizz\n",
      "7\n",
      "8\n",
      "Fizz\n",
      "Buzz\n",
      "11\n",
      "Fizz\n",
      "13\n",
      "14\n",
      "FizzBuzz\n",
      "16\n",
      "17\n",
      "Fizz\n",
      "19\n",
      "Buzz\n",
      "Fizz\n",
      "22\n",
      "23\n",
      "Fizz\n",
      "Buzz\n",
      "26\n",
      "Fizz\n",
      "28\n",
      "29\n",
      "FizzBuzz\n",
      "31\n",
      "32\n",
      "Fizz\n",
      "34\n",
      "Buzz\n",
      "Fizz\n",
      "37\n",
      "38\n",
      "Fizz\n",
      "Buzz\n",
      "41\n",
      "Fizz\n",
      "43\n",
      "44\n",
      "FizzBuzz\n",
      "46\n",
      "47\n",
      "Fizz\n",
      "49\n",
      "Buzz\n"
     ]
    }
   ],
   "source": [
    "def fizzBuzzLoop():\n",
    "    '''Fizz Buzz Loop'''\n",
    "    for number in range(1, 51):\n",
    "        if number % 3 == 0 and number % 5 == 0:\n",
    "            print(\"FizzBuzz\")\n",
    "        elif number % 3 == 0:\n",
    "            print(\"Fizz\")\n",
    "        elif number % 5 == 0:\n",
    "            print(\"Buzz\")\n",
    "        else:\n",
    "            print(number)\n",
    "\n",
    "fizzBuzzLoop()\n",
    "\n"
   ]
  },
  {
   "cell_type": "code",
   "execution_count": 2,
   "id": "7f909992",
   "metadata": {},
   "outputs": [],
   "source": [
    "def isPrimeNumber():\n",
    "    '''determines if the enterered number is prime'''\n",
    "    number = int(input(\"Enter a number: \"))\n",
    "\n",
    "    # A prime numbers are greater than 1\n",
    "    if number > 1:\n",
    "        # Check if any number from 2 to number-1 divides evenly\n",
    "        for i in range(2, number):\n",
    "            if number % i == 0:\n",
    "                print(\"Not a prime number\")\n",
    "                break\n",
    "        else:\n",
    "            # If no number divides evenly, it's prime\n",
    "            print(\"Prime number\")\n",
    "    else:\n",
    "        print(\"Not a prime number\")"
   ]
  }
 ],
 "metadata": {
  "kernelspec": {
   "display_name": "Python 3 (ipykernel)",
   "language": "python",
   "name": "python3"
  }
 },
 "nbformat": 4,
 "nbformat_minor": 5
}

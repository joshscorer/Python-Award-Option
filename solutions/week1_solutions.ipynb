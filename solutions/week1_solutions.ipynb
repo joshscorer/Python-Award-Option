{
 "cells": [
  {
   "cell_type": "code",
   "execution_count": null,
   "metadata": {},
   "outputs": [],
   "source": [
    "def celsius_to_fahrenheit(celsius):\n",
    "    '''Converts passed temp value to Fahrenheit'''\n",
    "    return celsius * 9/5 + 32\n",
    "     \n",
    "def tempConverter():\n",
    "    '''Converts between the two temperatire units'''\n",
    "    celsius = float(input(\"Enter temperature in Celsius: \"))\n",
    "    print(f\"{celsius}°C is {celsius_to_fahrenheit(celsius)}°F\")\n",
    "     \n",
    "    \n"
   ]
  },
  {
   "cell_type": "code",
   "execution_count": 2,
   "metadata": {},
   "outputs": [
    {
     "name": "stdout",
     "output_type": "stream",
     "text": [
      "34.0°C is 93.2°F\n",
      "98.0°F is 36.67°C\n"
     ]
    }
   ],
   "source": [
    "tempConverter()"
   ]
  },
  {
   "cell_type": "code",
   "execution_count": 1,
   "metadata": {},
   "outputs": [
    {
     "name": "stdout",
     "output_type": "stream",
     "text": [
      ".....Computer is making its choice.....\n",
      ".......Computer has made their choice.....\n",
      ".....determining winner.....\n",
      "You win because paper beats rock!\n"
     ]
    }
   ],
   "source": [
    "def rockPaperScissors():\n",
    "    '''simulate rock paper scissors game'''\n",
    "    from random import randint,choice\n",
    "    from time import sleep\n",
    "    choices = ['r','p','s'] \n",
    "\n",
    "    print('.....Computer is making its choice.....')\n",
    "    getCompChoice = choice(choices)\n",
    "    sleep(2)\n",
    "    print('.......Computer has made their choice.....')\n",
    "    #print(getChoice)\n",
    "    userChoice = input('Enter your choice [\"r\", \"p\", \"s\"]: ')\n",
    "\n",
    "    if getCompChoice ==\"r\" and userChoice == \"p\":\n",
    "        print('.....determining winner.....')\n",
    "        sleep(2)\n",
    "        print('You win because paper beats rock!')\n",
    "    elif getCompChoice ==\"p\" and userChoice == \"r\":\n",
    "        print('....determining winner...')\n",
    "        sleep(2)\n",
    "        print('You lose because paper beats rock')\n",
    "    elif getCompChoice ==\"s\" and userChoice ==\"r\":\n",
    "        print('....determining winner....')\n",
    "        sleep(2)\n",
    "        print('You win because rock beats paper')\n",
    "    elif getCompChoice ==\"r\" and userChoice ==\"s\":\n",
    "        print('...determinining winner....')\n",
    "        sleep(2)\n",
    "        print('You lose because rock beats paper')\n",
    "    elif getCompChoice ==\"s\" and userChoice ==\"p\":\n",
    "        print('....determining winner....')\n",
    "        sleep(2)\n",
    "        print('You lose because scissors beats paper')\n",
    "    elif getCompChoice ==\"p\" and userChoice ==\"s\":\n",
    "        print('...determining winner...')\n",
    "        sleep(2)\n",
    "        print('You win because scissors beats paper')\n",
    "    elif getCompChoice ==\"p\" and userChoice ==\"p\":\n",
    "        print(' WE DRAW')\n",
    "    elif getCompChoice ==\"s\" and userChoice ==\"s\":\n",
    "        print('WE DRAW')\n",
    "    elif getCompChoice ==\"r\" and userChoice ==\"r\":\n",
    "        print ('WE DRAW')\n",
    "\n",
    "    \n",
    "    else: print('I do not know who wins')\n",
    "\n",
    "\n",
    "    \n",
    "\n",
    "        \n",
    "rockPaperScissors()"
   ]
  },
  {
   "cell_type": "code",
   "execution_count": 9,
   "metadata": {},
   "outputs": [],
   "source": [
    "def isPrimeNumber():\n",
    "    '''determines if the enterered number is prime'''\n",
    "    number = int(input(\"Enter a number: \"))\n",
    "\n",
    "   \n",
    "    if number > 1:\n",
    "        \n",
    "        for i in range(2, number):\n",
    "            if number % i == 0:\n",
    "                print(\"Not a prime number\")\n",
    "                break\n",
    "        else:\n",
    "            \n",
    "            print(\"Prime number\")\n",
    "    else:\n",
    "        print(\"Not a prime number\")"
   ]
  }
 ],
 "metadata": {
  "kernelspec": {
   "display_name": "Python 3 (ipykernel)",
   "language": "python",
   "name": "python3"
  },
  "language_info": {
   "codemirror_mode": {
    "name": "ipython",
    "version": 3
   },
   "file_extension": ".py",
   "mimetype": "text/x-python",
   "name": "python",
   "nbconvert_exporter": "python",
   "pygments_lexer": "ipython3",
   "version": "3.12.1"
  }
 },
 "nbformat": 4,
 "nbformat_minor": 2
}
